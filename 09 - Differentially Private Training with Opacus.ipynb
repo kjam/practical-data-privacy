{
 "cells": [
  {
   "cell_type": "markdown",
   "metadata": {},
   "source": [
    "### Training with DP-SGD using Opacus\n",
    "\n",
    "In this notebook, we'll explore using DP-SGD using the Opacus library from Meta/PyTorch!\n",
    "\n",
    "The problem we will try to solve is determining the review score from looking at a Steam review. The dataset can be [downloaded from Kaggle here](https://www.kaggle.com/datasets/luthfim/steam-reviews-dataset?resource=download). This dataset has not gone through any privacy-preserving preprocessing (like many datasets we can find on Kaggle and in other machine learning communities)!\n",
    "\n",
    "We would like to use a BERT base and fine-tune it using Opacus to add differential privacy.\n",
    "\n",
    "This notebook is based on the [tutorial notebook from Opacus](https://opacus.ai/tutorials/building_text_classifier). They also have other tutorials available for tasks like image recognition and recommendors!"
   ]
  },
  {
   "cell_type": "code",
   "execution_count": 1,
   "metadata": {},
   "outputs": [],
   "source": [
    "import pandas as pd\n",
    "import numpy as np\n",
    "import torch\n",
    "import transformers\n",
    "\n",
    "from tqdm.notebook import tqdm\n",
    "\n",
    "from torch.utils.data import DataLoader, SequentialSampler\n",
    "from transformers import BertConfig, BertTokenizer, BertForSequenceClassification\n",
    "from datasets import Dataset\n",
    "\n",
    "from opacus import PrivacyEngine\n",
    "from opacus.utils.uniform_sampler import UniformWithReplacementSampler\n",
    "from opacus.utils.batch_memory_manager import BatchMemoryManager"
   ]
  },
  {
   "cell_type": "markdown",
   "metadata": {},
   "source": [
    "First we need to get BERT and set what layers we actually want to train with."
   ]
  },
  {
   "cell_type": "code",
   "execution_count": 2,
   "metadata": {},
   "outputs": [
    {
     "name": "stderr",
     "output_type": "stream",
     "text": [
      "Some weights of the model checkpoint at bert-base-cased were not used when initializing BertForSequenceClassification: ['cls.predictions.transform.LayerNorm.weight', 'cls.seq_relationship.bias', 'cls.seq_relationship.weight', 'cls.predictions.decoder.weight', 'cls.predictions.transform.dense.weight', 'cls.predictions.transform.dense.bias', 'cls.predictions.bias', 'cls.predictions.transform.LayerNorm.bias']\n",
      "- This IS expected if you are initializing BertForSequenceClassification from the checkpoint of a model trained on another task or with another architecture (e.g. initializing a BertForSequenceClassification model from a BertForPreTraining model).\n",
      "- This IS NOT expected if you are initializing BertForSequenceClassification from the checkpoint of a model that you expect to be exactly identical (initializing a BertForSequenceClassification model from a BertForSequenceClassification model).\n",
      "Some weights of BertForSequenceClassification were not initialized from the model checkpoint at bert-base-cased and are newly initialized: ['classifier.bias', 'classifier.weight']\n",
      "You should probably TRAIN this model on a down-stream task to be able to use it for predictions and inference.\n"
     ]
    }
   ],
   "source": [
    "model_name = \"bert-base-cased\"\n",
    "config = BertConfig.from_pretrained(\n",
    "    model_name,\n",
    "    num_labels=3,\n",
    ")\n",
    "tokenizer = BertTokenizer.from_pretrained(\n",
    "    \"bert-base-cased\",\n",
    "    do_lower_case=False,\n",
    "    padding=True,\n",
    ")\n",
    "model = BertForSequenceClassification.from_pretrained(\n",
    "    \"bert-base-cased\",\n",
    "    config=config,\n",
    ")"
   ]
  },
  {
   "cell_type": "code",
   "execution_count": 3,
   "metadata": {},
   "outputs": [
    {
     "name": "stdout",
     "output_type": "stream",
     "text": [
      "Total parameters count: 108312579\n",
      "Trainable parameters count: 7680771\n"
     ]
    }
   ],
   "source": [
    "trainable_layers = [model.bert.encoder.layer[-1], model.bert.pooler, model.classifier]\n",
    "total_params = 0\n",
    "trainable_params = 0\n",
    "\n",
    "for p in model.parameters():\n",
    "        p.requires_grad = False\n",
    "        total_params += p.numel()\n",
    "\n",
    "for layer in trainable_layers:\n",
    "    for p in layer.parameters():\n",
    "        p.requires_grad = True\n",
    "        trainable_params += p.numel()\n",
    "\n",
    "print(f\"Total parameters count: {total_params}\") # ~108M\n",
    "print(f\"Trainable parameters count: {trainable_params}\") # ~7M\n"
   ]
  },
  {
   "cell_type": "markdown",
   "metadata": {},
   "source": [
    "Next, let's take a look at the distribution of labels in our dataset."
   ]
  },
  {
   "cell_type": "code",
   "execution_count": 4,
   "metadata": {},
   "outputs": [
    {
     "data": {
      "text/html": [
       "<div>\n",
       "<style scoped>\n",
       "    .dataframe tbody tr th:only-of-type {\n",
       "        vertical-align: middle;\n",
       "    }\n",
       "\n",
       "    .dataframe tbody tr th {\n",
       "        vertical-align: top;\n",
       "    }\n",
       "\n",
       "    .dataframe thead th {\n",
       "        text-align: right;\n",
       "    }\n",
       "</style>\n",
       "<table border=\"1\" class=\"dataframe\">\n",
       "  <thead>\n",
       "    <tr style=\"text-align: right;\">\n",
       "      <th></th>\n",
       "      <th>date_posted</th>\n",
       "      <th>funny</th>\n",
       "      <th>helpful</th>\n",
       "      <th>hour_played</th>\n",
       "      <th>is_early_access_review</th>\n",
       "      <th>recommendation</th>\n",
       "      <th>review</th>\n",
       "      <th>title</th>\n",
       "    </tr>\n",
       "  </thead>\n",
       "  <tbody>\n",
       "    <tr>\n",
       "      <th>0</th>\n",
       "      <td>2019-02-10</td>\n",
       "      <td>2</td>\n",
       "      <td>4</td>\n",
       "      <td>578</td>\n",
       "      <td>False</td>\n",
       "      <td>Recommended</td>\n",
       "      <td>&amp;gt Played as German Reich&amp;gt Declare war on B...</td>\n",
       "      <td>Expansion - Hearts of Iron IV: Man the Guns</td>\n",
       "    </tr>\n",
       "    <tr>\n",
       "      <th>1</th>\n",
       "      <td>2019-02-10</td>\n",
       "      <td>0</td>\n",
       "      <td>0</td>\n",
       "      <td>184</td>\n",
       "      <td>False</td>\n",
       "      <td>Recommended</td>\n",
       "      <td>yes.</td>\n",
       "      <td>Expansion - Hearts of Iron IV: Man the Guns</td>\n",
       "    </tr>\n",
       "    <tr>\n",
       "      <th>2</th>\n",
       "      <td>2019-02-07</td>\n",
       "      <td>0</td>\n",
       "      <td>0</td>\n",
       "      <td>892</td>\n",
       "      <td>False</td>\n",
       "      <td>Recommended</td>\n",
       "      <td>Very good game although a bit overpriced in my...</td>\n",
       "      <td>Expansion - Hearts of Iron IV: Man the Guns</td>\n",
       "    </tr>\n",
       "    <tr>\n",
       "      <th>3</th>\n",
       "      <td>2018-06-14</td>\n",
       "      <td>126</td>\n",
       "      <td>1086</td>\n",
       "      <td>676</td>\n",
       "      <td>False</td>\n",
       "      <td>Recommended</td>\n",
       "      <td>Out of all the reviews I wrote This one is pro...</td>\n",
       "      <td>Dead by Daylight</td>\n",
       "    </tr>\n",
       "    <tr>\n",
       "      <th>4</th>\n",
       "      <td>2017-06-20</td>\n",
       "      <td>85</td>\n",
       "      <td>2139</td>\n",
       "      <td>612</td>\n",
       "      <td>False</td>\n",
       "      <td>Recommended</td>\n",
       "      <td>Disclaimer I survivor main. I play games for f...</td>\n",
       "      <td>Dead by Daylight</td>\n",
       "    </tr>\n",
       "  </tbody>\n",
       "</table>\n",
       "</div>"
      ],
      "text/plain": [
       "  date_posted  funny  helpful  hour_played  is_early_access_review  \\\n",
       "0  2019-02-10      2        4          578                   False   \n",
       "1  2019-02-10      0        0          184                   False   \n",
       "2  2019-02-07      0        0          892                   False   \n",
       "3  2018-06-14    126     1086          676                   False   \n",
       "4  2017-06-20     85     2139          612                   False   \n",
       "\n",
       "  recommendation                                             review  \\\n",
       "0    Recommended  &gt Played as German Reich&gt Declare war on B...   \n",
       "1    Recommended                                               yes.   \n",
       "2    Recommended  Very good game although a bit overpriced in my...   \n",
       "3    Recommended  Out of all the reviews I wrote This one is pro...   \n",
       "4    Recommended  Disclaimer I survivor main. I play games for f...   \n",
       "\n",
       "                                         title  \n",
       "0  Expansion - Hearts of Iron IV: Man the Guns  \n",
       "1  Expansion - Hearts of Iron IV: Man the Guns  \n",
       "2  Expansion - Hearts of Iron IV: Man the Guns  \n",
       "3                             Dead by Daylight  \n",
       "4                             Dead by Daylight  "
      ]
     },
     "execution_count": 4,
     "metadata": {},
     "output_type": "execute_result"
    }
   ],
   "source": [
    "df = pd.read_csv('data/steam_reviews.csv')\n",
    "df.head()"
   ]
  },
  {
   "cell_type": "code",
   "execution_count": 5,
   "metadata": {},
   "outputs": [
    {
     "data": {
      "text/plain": [
       "Recommended        303593\n",
       "Not Recommended    131298\n",
       "Name: recommendation, dtype: int64"
      ]
     },
     "execution_count": 5,
     "metadata": {},
     "output_type": "execute_result"
    }
   ],
   "source": [
    "df.recommendation.value_counts()"
   ]
  },
  {
   "cell_type": "code",
   "execution_count": 6,
   "metadata": {},
   "outputs": [],
   "source": [
    "df['labels'] = df.recommendation.map(lambda x: 1 if x=='Recommended' else 0)"
   ]
  },
  {
   "cell_type": "markdown",
   "metadata": {},
   "source": [
    "So we have a fairly significant skew in this set to recommend, let's hope we can still find some useful information! \n",
    "\n",
    "We also need to tell PyTorch the max string length for the review to appropriately use the transformer. Once we have that, we can start training!"
   ]
  },
  {
   "cell_type": "code",
   "execution_count": 7,
   "metadata": {},
   "outputs": [],
   "source": [
    "df.review = df.review.fillna('')\n",
    "df['review_len'] = df.review.map(len)"
   ]
  },
  {
   "cell_type": "code",
   "execution_count": 8,
   "metadata": {},
   "outputs": [
    {
     "data": {
      "text/plain": [
       "<AxesSubplot: >"
      ]
     },
     "execution_count": 8,
     "metadata": {},
     "output_type": "execute_result"
    },
    {
     "data": {
      "image/png": "[encoded data removed]",
      "text/plain": [
       "<Figure size 640x480 with 1 Axes>"
      ]
     },
     "metadata": {},
     "output_type": "display_data"
    }
   ],
   "source": [
    "df['review_len'].plot()"
   ]
  },
  {
   "cell_type": "markdown",
   "metadata": {},
   "source": [
    "Houston, we have a problem, let's try to fix our outliers..."
   ]
  },
  {
   "cell_type": "code",
   "execution_count": 9,
   "metadata": {},
   "outputs": [
    {
     "data": {
      "text/plain": [
       "295854    Battlegrounds&gt &gt &gt &gt &gt &gt &gt &gt &...\n",
       "354570    Solo&gt All Map&gt Play&gt Wating other player...\n",
       "Name: review, dtype: object"
      ]
     },
     "execution_count": 9,
     "metadata": {},
     "output_type": "execute_result"
    }
   ],
   "source": [
    "df[df['review_len'] > 10000]['review']"
   ]
  },
  {
   "cell_type": "code",
   "execution_count": 10,
   "metadata": {},
   "outputs": [],
   "source": [
    "df.review = df.review.str.replace('&gt', '')"
   ]
  },
  {
   "cell_type": "code",
   "execution_count": 11,
   "metadata": {},
   "outputs": [
    {
     "data": {
      "text/plain": [
       "<AxesSubplot: >"
      ]
     },
     "execution_count": 11,
     "metadata": {},
     "output_type": "execute_result"
    },
    {
     "data": {
      "image/png": "[encoded data removed]",
      "text/plain": [
       "<Figure size 640x480 with 1 Axes>"
      ]
     },
     "metadata": {},
     "output_type": "display_data"
    }
   ],
   "source": [
    "df['review_len'] = df.review.map(len)\n",
    "df['review_len'].plot()"
   ]
  },
  {
   "cell_type": "code",
   "execution_count": 12,
   "metadata": {},
   "outputs": [],
   "source": [
    "df.to_csv('data/steam_cleaned.csv', index=False)"
   ]
  },
  {
   "cell_type": "code",
   "execution_count": 13,
   "metadata": {},
   "outputs": [],
   "source": [
    "#df = pd.read_csv('data/steam_cleaned.csv') < this is somehow broken :( error in tokenizer later"
   ]
  },
  {
   "cell_type": "code",
   "execution_count": 14,
   "metadata": {},
   "outputs": [
    {
     "data": {
      "text/html": [
       "<div>\n",
       "<style scoped>\n",
       "    .dataframe tbody tr th:only-of-type {\n",
       "        vertical-align: middle;\n",
       "    }\n",
       "\n",
       "    .dataframe tbody tr th {\n",
       "        vertical-align: top;\n",
       "    }\n",
       "\n",
       "    .dataframe thead th {\n",
       "        text-align: right;\n",
       "    }\n",
       "</style>\n",
       "<table border=\"1\" class=\"dataframe\">\n",
       "  <thead>\n",
       "    <tr style=\"text-align: right;\">\n",
       "      <th></th>\n",
       "      <th>date_posted</th>\n",
       "      <th>funny</th>\n",
       "      <th>helpful</th>\n",
       "      <th>hour_played</th>\n",
       "      <th>is_early_access_review</th>\n",
       "      <th>recommendation</th>\n",
       "      <th>review</th>\n",
       "      <th>title</th>\n",
       "      <th>labels</th>\n",
       "      <th>review_len</th>\n",
       "    </tr>\n",
       "  </thead>\n",
       "  <tbody>\n",
       "    <tr>\n",
       "      <th>0</th>\n",
       "      <td>2019-02-10</td>\n",
       "      <td>2</td>\n",
       "      <td>4</td>\n",
       "      <td>578</td>\n",
       "      <td>False</td>\n",
       "      <td>Recommended</td>\n",
       "      <td>Played as German Reich Declare war on Belgium...</td>\n",
       "      <td>Expansion - Hearts of Iron IV: Man the Guns</td>\n",
       "      <td>1</td>\n",
       "      <td>180</td>\n",
       "    </tr>\n",
       "    <tr>\n",
       "      <th>1</th>\n",
       "      <td>2019-02-10</td>\n",
       "      <td>0</td>\n",
       "      <td>0</td>\n",
       "      <td>184</td>\n",
       "      <td>False</td>\n",
       "      <td>Recommended</td>\n",
       "      <td>yes.</td>\n",
       "      <td>Expansion - Hearts of Iron IV: Man the Guns</td>\n",
       "      <td>1</td>\n",
       "      <td>4</td>\n",
       "    </tr>\n",
       "    <tr>\n",
       "      <th>2</th>\n",
       "      <td>2019-02-07</td>\n",
       "      <td>0</td>\n",
       "      <td>0</td>\n",
       "      <td>892</td>\n",
       "      <td>False</td>\n",
       "      <td>Recommended</td>\n",
       "      <td>Very good game although a bit overpriced in my...</td>\n",
       "      <td>Expansion - Hearts of Iron IV: Man the Guns</td>\n",
       "      <td>1</td>\n",
       "      <td>171</td>\n",
       "    </tr>\n",
       "    <tr>\n",
       "      <th>3</th>\n",
       "      <td>2018-06-14</td>\n",
       "      <td>126</td>\n",
       "      <td>1086</td>\n",
       "      <td>676</td>\n",
       "      <td>False</td>\n",
       "      <td>Recommended</td>\n",
       "      <td>Out of all the reviews I wrote This one is pro...</td>\n",
       "      <td>Dead by Daylight</td>\n",
       "      <td>1</td>\n",
       "      <td>2094</td>\n",
       "    </tr>\n",
       "    <tr>\n",
       "      <th>4</th>\n",
       "      <td>2017-06-20</td>\n",
       "      <td>85</td>\n",
       "      <td>2139</td>\n",
       "      <td>612</td>\n",
       "      <td>False</td>\n",
       "      <td>Recommended</td>\n",
       "      <td>Disclaimer I survivor main. I play games for f...</td>\n",
       "      <td>Dead by Daylight</td>\n",
       "      <td>1</td>\n",
       "      <td>1397</td>\n",
       "    </tr>\n",
       "  </tbody>\n",
       "</table>\n",
       "</div>"
      ],
      "text/plain": [
       "  date_posted  funny  helpful  hour_played  is_early_access_review  \\\n",
       "0  2019-02-10      2        4          578                   False   \n",
       "1  2019-02-10      0        0          184                   False   \n",
       "2  2019-02-07      0        0          892                   False   \n",
       "3  2018-06-14    126     1086          676                   False   \n",
       "4  2017-06-20     85     2139          612                   False   \n",
       "\n",
       "  recommendation                                             review  \\\n",
       "0    Recommended   Played as German Reich Declare war on Belgium...   \n",
       "1    Recommended                                               yes.   \n",
       "2    Recommended  Very good game although a bit overpriced in my...   \n",
       "3    Recommended  Out of all the reviews I wrote This one is pro...   \n",
       "4    Recommended  Disclaimer I survivor main. I play games for f...   \n",
       "\n",
       "                                         title  labels  review_len  \n",
       "0  Expansion - Hearts of Iron IV: Man the Guns       1         180  \n",
       "1  Expansion - Hearts of Iron IV: Man the Guns       1           4  \n",
       "2  Expansion - Hearts of Iron IV: Man the Guns       1         171  \n",
       "3                             Dead by Daylight       1        2094  \n",
       "4                             Dead by Daylight       1        1397  "
      ]
     },
     "execution_count": 14,
     "metadata": {},
     "output_type": "execute_result"
    }
   ],
   "source": [
    "df.head()"
   ]
  },
  {
   "cell_type": "code",
   "execution_count": 15,
   "metadata": {},
   "outputs": [],
   "source": [
    "train_df = df.sample(frac=0.8,random_state=0)\n",
    "test_df = df.drop(train_df.index)"
   ]
  },
  {
   "cell_type": "markdown",
   "metadata": {},
   "source": [
    "Great, now we can set our max and move along!\n",
    "\n",
    "Depending on your computer, you might want to start running the next few cells and go make some tea, drink some water, do 10 minutes of yoga/stretches or get some fresh air. It will take a minute to run."
   ]
  },
  {
   "cell_type": "code",
   "execution_count": 16,
   "metadata": {},
   "outputs": [],
   "source": [
    "train_ds = Dataset.from_pandas(train_df[['review', 'labels']])\n",
    "test_ds = Dataset.from_pandas(test_df[['review', 'labels']])"
   ]
  },
  {
   "cell_type": "code",
   "execution_count": 18,
   "metadata": {},
   "outputs": [
    {
     "data": {
      "application/vnd.jupyter.widget-view+json": {
       "model_id": "bd89fd86106046e58a98571c1fe30508",
       "version_major": 2,
       "version_minor": 0
      },
      "text/plain": [
       "  0%|          | 0/348 [00:00<?, ?ba/s]"
      ]
     },
     "metadata": {},
     "output_type": "display_data"
    }
   ],
   "source": [
    "SEQ_LENGTH=256\n",
    "\n",
    "def tokenization(example):\n",
    "    return tokenizer(example['review'], padding='max_length', truncation=True, max_length=SEQ_LENGTH)\n",
    "\n",
    "train_tok = train_ds.map(tokenization, batched=True)"
   ]
  },
  {
   "cell_type": "code",
   "execution_count": 19,
   "metadata": {},
   "outputs": [
    {
     "data": {
      "application/vnd.jupyter.widget-view+json": {
       "model_id": "1b508f039c7d43d28b7adb0ef7dca7c0",
       "version_major": 2,
       "version_minor": 0
      },
      "text/plain": [
       "  0%|          | 0/87 [00:00<?, ?ba/s]"
      ]
     },
     "metadata": {},
     "output_type": "display_data"
    }
   ],
   "source": [
    "test_tok = test_ds.map(tokenization, batched=True)"
   ]
  },
  {
   "cell_type": "code",
   "execution_count": 20,
   "metadata": {},
   "outputs": [],
   "source": [
    "train_tok.set_format(type=\"torch\", columns=[\"input_ids\", \"token_type_ids\", \"attention_mask\", \"labels\"])\n",
    "test_tok.set_format(type=\"torch\", columns=[\"input_ids\", \"token_type_ids\", \"attention_mask\", \"labels\"])"
   ]
  },
  {
   "cell_type": "code",
   "execution_count": 21,
   "metadata": {},
   "outputs": [],
   "source": [
    "train_tok = train_tok.remove_columns(['review'])\n",
    "test_tok = test_tok.remove_columns(['review'])"
   ]
  },
  {
   "cell_type": "code",
   "execution_count": 22,
   "metadata": {},
   "outputs": [],
   "source": [
    "BATCH_SIZE = 32\n",
    "MAX_PHYSICAL_BATCH_SIZE = 32"
   ]
  },
  {
   "cell_type": "code",
   "execution_count": 23,
   "metadata": {},
   "outputs": [],
   "source": [
    "train_dataloader = DataLoader(train_tok, batch_size=BATCH_SIZE)\n",
    "test_dataloader = DataLoader(test_tok, sampler=SequentialSampler(test_tok), batch_size=BATCH_SIZE)"
   ]
  },
  {
   "cell_type": "code",
   "execution_count": 24,
   "metadata": {},
   "outputs": [],
   "source": [
    "device = torch.device(\"mps\") #CHANGE THIS TO FIT YOUR DEVICE PLEASE :D\n",
    "model = model.to(device)\n",
    "\n",
    "# Set the model to train mode (HuggingFace models load in eval mode)\n",
    "model = model.train()\n",
    "# Define optimizer\n",
    "optimizer = torch.optim.AdamW(model.parameters(), lr=5e-4, eps=1e-8)"
   ]
  },
  {
   "cell_type": "code",
   "execution_count": 25,
   "metadata": {},
   "outputs": [],
   "source": [
    "EPOCHS = 3\n",
    "LOGGING_INTERVAL = 500 # once every how many steps we run evaluation cycle and report metrics\n",
    "EPSILON = 7.5\n",
    "DELTA = 1 / len(train_dataloader) # Parameter for privacy accounting. Probability of not achieving privacy guarantees"
   ]
  },
  {
   "cell_type": "code",
   "execution_count": 26,
   "metadata": {},
   "outputs": [],
   "source": [
    "def accuracy(preds, labels):\n",
    "    return (preds == labels).mean()\n",
    "\n",
    "# define evaluation cycle\n",
    "def evaluate(model):    \n",
    "    model.eval()\n",
    "\n",
    "    loss_arr = []\n",
    "    accuracy_arr = []\n",
    "    \n",
    "    for batch in test_dataloader:\n",
    "\n",
    "        with torch.no_grad():\n",
    "            \n",
    "            inputs = {'input_ids':      batch['input_ids'].to(device),\n",
    "                      'attention_mask': batch['attention_mask'].to(device),\n",
    "                      'token_type_ids': batch['token_type_ids'].to(device),\n",
    "                      'labels':         batch['labels'].to(device)}\n",
    "\n",
    "\n",
    "            outputs = model(**inputs)\n",
    "            loss, logits = outputs[:2]\n",
    "            \n",
    "            preds = np.argmax(logits.detach().cpu().numpy(), axis=1)\n",
    "            labels = batch['labels'].detach().cpu().numpy()\n",
    "            \n",
    "            loss_arr.append(loss.item())\n",
    "            accuracy_arr.append(accuracy(preds, labels))\n",
    "    \n",
    "    model.train()\n",
    "    return np.mean(loss_arr), np.mean(accuracy_arr)"
   ]
  },
  {
   "cell_type": "code",
   "execution_count": 27,
   "metadata": {},
   "outputs": [
    {
     "name": "stderr",
     "output_type": "stream",
     "text": [
      "/opt/anaconda3/envs/py3data/lib/python3.8/site-packages/opacus/privacy_engine.py:142: UserWarning: Secure RNG turned off. This is perfectly fine for experimentation as it allows for much faster training performance, but remember to turn it on and retrain one last time before production with ``secure_mode`` turned on.\n",
      "  warnings.warn(\n",
      "/opt/anaconda3/envs/py3data/lib/python3.8/site-packages/opacus/accountants/analysis/rdp.py:332: UserWarning: Optimal order is the largest alpha. Please consider expanding the range of alphas to get a tighter privacy bound.\n",
      "  warnings.warn(\n",
      "/opt/anaconda3/envs/py3data/lib/python3.8/site-packages/opacus/accountants/analysis/prv/prvs.py:50: RuntimeWarning: invalid value encountered in log\n",
      "  z = np.log((np.exp(t) + q - 1) / q)\n"
     ]
    }
   ],
   "source": [
    "\n",
    "MAX_GRAD_NORM = 0.1\n",
    "\n",
    "privacy_engine = PrivacyEngine()\n",
    "\n",
    "model, optimizer, train_dataloader = privacy_engine.make_private_with_epsilon(\n",
    "    module=model,\n",
    "    optimizer=optimizer,\n",
    "    data_loader=train_dataloader,\n",
    "    target_delta=DELTA,\n",
    "    target_epsilon=EPSILON, \n",
    "    epochs=EPOCHS,\n",
    "    max_grad_norm=MAX_GRAD_NORM,\n",
    ")"
   ]
  },
  {
   "cell_type": "code",
   "execution_count": null,
   "metadata": {},
   "outputs": [
    {
     "data": {
      "application/vnd.jupyter.widget-view+json": {
       "model_id": "b4219e45ee4d40c782711fef6cb313b7",
       "version_major": 2,
       "version_minor": 0
      },
      "text/plain": [
       "  0%|          | 0/10872 [00:00<?, ?it/s]"
      ]
     },
     "metadata": {},
     "output_type": "display_data"
    },
    {
     "name": "stderr",
     "output_type": "stream",
     "text": [
      "/opt/anaconda3/envs/py3data/lib/python3.8/site-packages/torch/nn/modules/module.py:1113: UserWarning: Using a non-full backward hook when the forward contains multiple autograd Nodes is deprecated and will be removed in future versions. This hook will be missing some grad_input. Please use register_full_backward_hook to get the documented behavior.\n",
      "  warnings.warn(\"Using a non-full backward hook when the forward contains multiple autograd Nodes \"\n",
      "/opt/anaconda3/envs/py3data/lib/python3.8/site-packages/torch/nn/modules/module.py:1078: UserWarning: Using non-full backward hooks on a Module that does not return a single Tensor or a tuple of Tensors is deprecated and will be removed in future versions. This hook will be missing some of the grad_output. Please use register_full_backward_hook to get the documented behavior.\n",
      "  warnings.warn(\"Using non-full backward hooks on a Module that does not return a \"\n"
     ]
    },
    {
     "name": "stdout",
     "output_type": "stream",
     "text": [
      "Epoch: 1 | Step: 500 | Train loss: 1.971 | Eval loss: 2.042 | Eval accuracy: 0.698 | ɛ: 2.68\n",
      "Epoch: 1 | Step: 1000 | Train loss: 1.970 | Eval loss: 2.018 | Eval accuracy: 0.698 | ɛ: 3.30\n",
      "Epoch: 1 | Step: 1500 | Train loss: 1.928 | Eval loss: 1.723 | Eval accuracy: 0.698 | ɛ: 3.68\n",
      "Epoch: 1 | Step: 2000 | Train loss: 1.834 | Eval loss: 1.450 | Eval accuracy: 0.720 | ɛ: 3.94\n",
      "Epoch: 1 | Step: 2500 | Train loss: 1.711 | Eval loss: 1.144 | Eval accuracy: 0.785 | ɛ: 4.14\n",
      "Epoch: 1 | Step: 3000 | Train loss: 1.628 | Eval loss: 1.137 | Eval accuracy: 0.794 | ɛ: 4.30\n",
      "Epoch: 1 | Step: 3500 | Train loss: 1.561 | Eval loss: 1.089 | Eval accuracy: 0.804 | ɛ: 4.44\n",
      "Epoch: 1 | Step: 4000 | Train loss: 1.518 | Eval loss: 1.106 | Eval accuracy: 0.807 | ɛ: 4.56\n",
      "Epoch: 1 | Step: 4500 | Train loss: 1.484 | Eval loss: 1.213 | Eval accuracy: 0.803 | ɛ: 4.66\n",
      "Epoch: 1 | Step: 5000 | Train loss: 1.452 | Eval loss: 1.097 | Eval accuracy: 0.813 | ɛ: 4.76\n",
      "Epoch: 1 | Step: 5500 | Train loss: 1.426 | Eval loss: 1.122 | Eval accuracy: 0.814 | ɛ: 4.84\n",
      "Epoch: 1 | Step: 6000 | Train loss: 1.402 | Eval loss: 1.083 | Eval accuracy: 0.819 | ɛ: 4.92\n",
      "Epoch: 1 | Step: 6500 | Train loss: 1.381 | Eval loss: 1.346 | Eval accuracy: 0.806 | ɛ: 5.00\n",
      "Epoch: 1 | Step: 7000 | Train loss: 1.362 | Eval loss: 1.054 | Eval accuracy: 0.824 | ɛ: 5.06\n",
      "Epoch: 1 | Step: 7500 | Train loss: 1.345 | Eval loss: 1.061 | Eval accuracy: 0.827 | ɛ: 5.13\n",
      "Epoch: 1 | Step: 8000 | Train loss: 1.332 | Eval loss: 1.108 | Eval accuracy: 0.826 | ɛ: 5.19\n",
      "Epoch: 1 | Step: 8500 | Train loss: 1.320 | Eval loss: 1.079 | Eval accuracy: 0.827 | ɛ: 5.25\n",
      "Epoch: 1 | Step: 9000 | Train loss: 1.309 | Eval loss: 1.089 | Eval accuracy: 0.827 | ɛ: 5.31\n",
      "Epoch: 1 | Step: 9500 | Train loss: 1.299 | Eval loss: 1.080 | Eval accuracy: 0.829 | ɛ: 5.36\n",
      "Epoch: 1 | Step: 10000 | Train loss: 1.290 | Eval loss: 1.215 | Eval accuracy: 0.822 | ɛ: 5.41\n",
      "Epoch: 1 | Step: 10500 | Train loss: 1.281 | Eval loss: 1.168 | Eval accuracy: 0.828 | ɛ: 5.46\n",
      "Epoch: 1 | Step: 11000 | Train loss: 1.274 | Eval loss: 1.140 | Eval accuracy: 0.827 | ɛ: 5.51\n",
      "Epoch: 1 | Step: 11500 | Train loss: 1.268 | Eval loss: 1.091 | Eval accuracy: 0.830 | ɛ: 5.55\n",
      "Epoch: 1 | Step: 12000 | Train loss: 1.261 | Eval loss: 1.079 | Eval accuracy: 0.830 | ɛ: 5.60\n",
      "Epoch: 1 | Step: 12500 | Train loss: 1.254 | Eval loss: 1.183 | Eval accuracy: 0.824 | ɛ: 5.64\n",
      "Epoch: 1 | Step: 13000 | Train loss: 1.248 | Eval loss: 1.094 | Eval accuracy: 0.832 | ɛ: 5.68\n",
      "Epoch: 1 | Step: 13500 | Train loss: 1.243 | Eval loss: 1.147 | Eval accuracy: 0.829 | ɛ: 5.72\n",
      "Epoch: 1 | Step: 14000 | Train loss: 1.238 | Eval loss: 1.104 | Eval accuracy: 0.830 | ɛ: 5.76\n",
      "Epoch: 1 | Step: 14500 | Train loss: 1.233 | Eval loss: 1.096 | Eval accuracy: 0.833 | ɛ: 5.80\n",
      "Epoch: 1 | Step: 15000 | Train loss: 1.228 | Eval loss: 1.133 | Eval accuracy: 0.830 | ɛ: 5.84\n",
      "Epoch: 1 | Step: 15500 | Train loss: 1.223 | Eval loss: 1.148 | Eval accuracy: 0.832 | ɛ: 5.88\n"
     ]
    },
    {
     "data": {
      "application/vnd.jupyter.widget-view+json": {
       "model_id": "35eff8a4aeb845ef87af4df8bfedecd9",
       "version_major": 2,
       "version_minor": 0
      },
      "text/plain": [
       "  0%|          | 0/10872 [00:00<?, ?it/s]"
      ]
     },
     "metadata": {},
     "output_type": "display_data"
    },
    {
     "name": "stdout",
     "output_type": "stream",
     "text": [
      "Epoch: 2 | Step: 500 | Train loss: 1.100 | Eval loss: 1.142 | Eval accuracy: 0.833 | ɛ: 5.93\n",
      "Epoch: 2 | Step: 1000 | Train loss: 1.123 | Eval loss: 1.104 | Eval accuracy: 0.834 | ɛ: 5.97\n",
      "Epoch: 2 | Step: 1500 | Train loss: 1.116 | Eval loss: 1.151 | Eval accuracy: 0.831 | ɛ: 6.00\n",
      "Epoch: 2 | Step: 2000 | Train loss: 1.116 | Eval loss: 1.103 | Eval accuracy: 0.834 | ɛ: 6.04\n",
      "Epoch: 2 | Step: 2500 | Train loss: 1.115 | Eval loss: 1.112 | Eval accuracy: 0.835 | ɛ: 6.07\n",
      "Epoch: 2 | Step: 3000 | Train loss: 1.120 | Eval loss: 1.103 | Eval accuracy: 0.835 | ɛ: 6.10\n",
      "Epoch: 2 | Step: 3500 | Train loss: 1.123 | Eval loss: 1.131 | Eval accuracy: 0.833 | ɛ: 6.14\n",
      "Epoch: 2 | Step: 4000 | Train loss: 1.122 | Eval loss: 1.188 | Eval accuracy: 0.830 | ɛ: 6.17\n",
      "Epoch: 2 | Step: 4500 | Train loss: 1.122 | Eval loss: 1.128 | Eval accuracy: 0.832 | ɛ: 6.20\n"
     ]
    }
   ],
   "source": [
    "for epoch in range(1, EPOCHS+1):\n",
    "    losses = []\n",
    "\n",
    "    with BatchMemoryManager(\n",
    "        data_loader=train_dataloader, \n",
    "        max_physical_batch_size=MAX_PHYSICAL_BATCH_SIZE, \n",
    "        optimizer=optimizer\n",
    "    ) as memory_safe_data_loader:\n",
    "        for step, batch in enumerate(tqdm(memory_safe_data_loader)):\n",
    "            optimizer.zero_grad()\n",
    "\n",
    "            inputs = {'input_ids':      batch['input_ids'].to(device),\n",
    "                      'attention_mask': batch['attention_mask'].to(device),\n",
    "                      'token_type_ids': batch['token_type_ids'].to(device),\n",
    "                      'labels':         batch['labels'].to(device)}\n",
    "\n",
    "            outputs = model(**inputs) # output = loss, logits, hidden_states, attentions\n",
    "            \n",
    "            loss = outputs[0]\n",
    "            loss.backward()\n",
    "            losses.append(loss.item())\n",
    "\n",
    "            optimizer.step()\n",
    "\n",
    "            if step > 0 and step % LOGGING_INTERVAL == 0:\n",
    "                train_loss = np.mean(losses)\n",
    "                eps = privacy_engine.get_epsilon(DELTA)\n",
    "\n",
    "                eval_loss, eval_accuracy = evaluate(model)\n",
    "\n",
    "                print(\n",
    "                  f\"Epoch: {epoch} | \"\n",
    "                  f\"Step: {step} | \"\n",
    "                  f\"Train loss: {train_loss:.3f} | \"\n",
    "                  f\"Eval loss: {eval_loss:.3f} | \"\n",
    "                  f\"Eval accuracy: {eval_accuracy:.3f} | \"\n",
    "                  f\"ɛ: {eps:.2f}\"\n",
    "                )\n"
   ]
  },
  {
   "cell_type": "code",
   "execution_count": null,
   "metadata": {},
   "outputs": [],
   "source": []
  }
 ],
 "metadata": {
  "kernelspec": {
   "display_name": "Python 3",
   "language": "python",
   "name": "python3"
  },
  "language_info": {
   "codemirror_mode": {
    "name": "ipython",
    "version": 3
   },
   "file_extension": ".py",
   "mimetype": "text/x-python",
   "name": "python",
   "nbconvert_exporter": "python",
   "pygments_lexer": "ipython3",
   "version": "3.8.10"
  }
 },
 "nbformat": 4,
 "nbformat_minor": 4
}
